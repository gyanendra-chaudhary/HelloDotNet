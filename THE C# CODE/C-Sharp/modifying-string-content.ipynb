{
 "cells": [
  {
   "cell_type": "code",
   "execution_count": 1,
   "id": "241ef70d",
   "metadata": {
    "polyglot_notebook": {
     "kernelName": "csharp"
    }
   },
   "outputs": [
    {
     "name": "stdout",
     "output_type": "stream",
     "text": [
      "The mountains are behind the clouds today.\n",
      "The_mountains_are_behind_the_clouds_today.\n"
     ]
    }
   ],
   "source": [
    "string source = \"The mountains are behind the clouds today.\";\n",
    "\n",
    "// Replace all occurrences of one char with another.\n",
    "var replacement = source.Replace(' ', '_');\n",
    "Console.WriteLine(source);\n",
    "Console.WriteLine(replacement);"
   ]
  },
  {
   "cell_type": "code",
   "execution_count": 2,
   "id": "9a3c6a97",
   "metadata": {
    "polyglot_notebook": {
     "kernelName": "csharp"
    }
   },
   "outputs": [
    {
     "name": "stdout",
     "output_type": "stream",
     "text": [
      "<    I'm wider than I need to be.      >\n",
      "<I'm wider than I need to be.>\n",
      "<I'm wider than I need to be.      >\n",
      "<    I'm wider than I need to be.>\n"
     ]
    }
   ],
   "source": [
    "// Remove trailing and leading white space.\n",
    "string source = \"    I'm wider than I need to be.      \";\n",
    "// Store the results in a new string variable.\n",
    "var trimmedResult = source.Trim();\n",
    "var trimLeading = source.TrimStart();\n",
    "var trimTrailing = source.TrimEnd();\n",
    "Console.WriteLine($\"<{source}>\");\n",
    "Console.WriteLine($\"<{trimmedResult}>\");\n",
    "Console.WriteLine($\"<{trimLeading}>\");\n",
    "Console.WriteLine($\"<{trimTrailing}>\");"
   ]
  },
  {
   "cell_type": "code",
   "execution_count": 3,
   "id": "27eb2e4f",
   "metadata": {
    "polyglot_notebook": {
     "kernelName": "csharp"
    }
   },
   "outputs": [
    {
     "name": "stdout",
     "output_type": "stream",
     "text": [
      "Many mountains are behind many clouds today.\n",
      "Many mountains are behind clouds today.\n"
     ]
    }
   ],
   "source": [
    "string source = \"Many mountains are behind many clouds today.\";\n",
    "// Remove a substring from the middle of the string.\n",
    "string toRemove = \"many \";\n",
    "string result = string.Empty;\n",
    "int i = source.IndexOf(toRemove);\n",
    "if (i >= 0)\n",
    "{\n",
    "    result= source.Remove(i, toRemove.Length);\n",
    "}\n",
    "Console.WriteLine(source);\n",
    "Console.WriteLine(result);"
   ]
  },
  {
   "cell_type": "code",
   "execution_count": 4,
   "id": "5706a7d4",
   "metadata": {
    "polyglot_notebook": {
     "kernelName": "csharp"
    }
   },
   "outputs": [
    {
     "name": "stdout",
     "output_type": "stream",
     "text": [
      "Many mountains are still there behind many clouds today.\r\n"
     ]
    }
   ],
   "source": [
    "string source = \"The mountains are still there behind the clouds today.\";\n",
    "\n",
    "// Use Regex.Replace for more flexibility.\n",
    "// Replace \"the\" or \"The\" with \"many\" or \"Many\".\n",
    "// using System.Text.RegularExpressions\n",
    "string replaceWith = \"many \";\n",
    "source = System.Text.RegularExpressions.Regex.Replace(source, \"\"\"the\\s\"\"\", LocalReplaceMatchCase,\n",
    "    System.Text.RegularExpressions.RegexOptions.IgnoreCase);\n",
    "Console.WriteLine(source);\n",
    "\n",
    "string LocalReplaceMatchCase(System.Text.RegularExpressions.Match matchExpression)\n",
    "{\n",
    "    // Test whether the match is capitalized\n",
    "    if (Char.IsUpper(matchExpression.Value[0]))\n",
    "    {\n",
    "        // Capitalize the replacement string\n",
    "        System.Text.StringBuilder replacementBuilder = new System.Text.StringBuilder(replaceWith);\n",
    "        replacementBuilder[0] = Char.ToUpper(replacementBuilder[0]);\n",
    "        return replacementBuilder.ToString();\n",
    "    }\n",
    "    else\n",
    "    {\n",
    "        return replaceWith;\n",
    "    }\n",
    "}"
   ]
  },
  {
   "cell_type": "code",
   "execution_count": 4,
   "metadata": {
    "polyglot_notebook": {
     "kernelName": "csharp"
    }
   },
   "outputs": [
    {
     "name": "stdout",
     "output_type": "stream",
     "text": [
      "The quick brown fox jumps over the fence\n",
      "T\n",
      "h\n",
      "e\n",
      " \n",
      "q\n",
      "u\n",
      "i\n",
      "c\n",
      "k\n",
      " \n",
      "b\n",
      "r\n",
      "o\n",
      "w\n",
      "n\n",
      " \n",
      "f\n",
      "o\n",
      "x\n",
      " \n",
      "j\n",
      "u\n",
      "m\n",
      "p\n",
      "s\n",
      " \n",
      "o\n",
      "v\n",
      "e\n",
      "r\n",
      " \n",
      "t\n",
      "h\n",
      "e\n",
      " \n",
      "f\n",
      "e\n",
      "n\n",
      "c\n",
      "e\n",
      "The quick brown cat jumps over the fence\n"
     ]
    }
   ],
   "source": [
    "string phrase = \"The quick brown fox jumps over the fence\";\n",
    "Console.WriteLine(phrase);\n",
    "\n",
    "char[] phraseAsChars = phrase.ToCharArray();\n",
    "foreach(char a in phraseAsChars){\n",
    "    Console.WriteLine(a);\n",
    "}\n",
    "int animalIndex = phrase.IndexOf(\"fox\");\n",
    "if (animalIndex != -1)\n",
    "{\n",
    "    phraseAsChars[animalIndex++] = 'c';\n",
    "    phraseAsChars[animalIndex++] = 'a';\n",
    "    phraseAsChars[animalIndex] = 't';\n",
    "}\n",
    "\n",
    "string updatedPhrase = new string(phraseAsChars);\n",
    "Console.WriteLine(updatedPhrase);"
   ]
  },
  {
   "cell_type": "code",
   "execution_count": 5,
   "metadata": {
    "polyglot_notebook": {
     "kernelName": "csharp"
    }
   },
   "outputs": [
    {
     "name": "stdout",
     "output_type": "stream",
     "text": [
      "01abcd\u0000\r\n"
     ]
    }
   ],
   "source": [
    "// constructing a string from a char array, prefix it with some additional characters\n",
    "char[] chars = [ 'a', 'b', 'c', 'd', '\\0' ];\n",
    "int length = chars.Length + 2;\n",
    "string result = string.Create(length, chars, (Span<char> strContent, char[] charArray) =>\n",
    "{\n",
    "        strContent[0] = '0';\n",
    "        strContent[1] = '1';\n",
    "        for (int i = 0; i < charArray.Length; i++)\n",
    "        {\n",
    "            strContent[i + 2] = charArray[i];\n",
    "        }\n",
    "});\n",
    "\n",
    "Console.WriteLine(result);"
   ]
  },
  {
   "cell_type": "code",
   "execution_count": 8,
   "metadata": {
    "polyglot_notebook": {
     "kernelName": "csharp"
    }
   },
   "outputs": [
    {
     "name": "stdout",
     "output_type": "stream",
     "text": [
      "Ordinal comparison: <C:\\users> and <C:\\Users> are not equal.\n",
      "Ordinal comparison: <C:\\users> and <C:\\Users> are not equal.\n",
      "Using == says that <C:\\users> and <C:\\Users> are not equal\n"
     ]
    }
   ],
   "source": [
    "string root = @\"C:\\users\";\n",
    "string root2 = @\"C:\\Users\";\n",
    "\n",
    "bool result = root.Equals(root2);\n",
    "Console.WriteLine($\"Ordinal comparison: <{root}> and <{root2}> are {(result ? \"equal.\" : \"not equal.\")}\");\n",
    "\n",
    "result = root.Equals(root2, StringComparison.Ordinal);\n",
    "Console.WriteLine($\"Ordinal comparison: <{root}> and <{root2}> are {(result ? \"equal.\" : \"not equal.\")}\");\n",
    "\n",
    "Console.WriteLine($\"Using == says that <{root}> and <{root2}> are {(root == root2 ? \"equal\" : \"not equal\")}\");"
   ]
  },
  {
   "cell_type": "code",
   "execution_count": 10,
   "metadata": {
    "polyglot_notebook": {
     "kernelName": "csharp"
    }
   },
   "outputs": [
    {
     "name": "stdout",
     "output_type": "stream",
     "text": [
      "0\n",
      "Ordinal ignore case: <C:\\users> and <C:\\Users> are equal.\n",
      "Ordinal static ignore case: <C:\\users> and <C:\\Users> are equal.\n",
      "<C:\\users> and <C:\\Users> are equivalent in order\n"
     ]
    }
   ],
   "source": [
    "string root = @\"C:\\users\";\n",
    "string root2 = @\"C:\\Users\";\n",
    "\n",
    "bool result = root.Equals(root2, StringComparison.OrdinalIgnoreCase);\n",
    "bool areEqual = String.Equals(root, root2, StringComparison.OrdinalIgnoreCase);\n",
    "int comparison = String.Compare(root, root2, comparisonType: StringComparison.OrdinalIgnoreCase);\n",
    "Console.WriteLine(comparison);\n",
    "\n",
    "Console.WriteLine($\"Ordinal ignore case: <{root}> and <{root2}> are {(result ? \"equal.\" : \"not equal.\")}\");\n",
    "Console.WriteLine($\"Ordinal static ignore case: <{root}> and <{root2}> are {(areEqual ? \"equal.\" : \"not equal.\")}\");\n",
    "if (comparison < 0)\n",
    "{\n",
    "    Console.WriteLine($\"<{root}> is less than <{root2}>\");\n",
    "}\n",
    "else if (comparison > 0)\n",
    "{\n",
    "    Console.WriteLine($\"<{root}> is greater than <{root2}>\");\n",
    "}\n",
    "else\n",
    "{\n",
    "    Console.WriteLine($\"<{root}> and <{root2}> are equivalent in order\");\n",
    "}"
   ]
  }
 ],
 "metadata": {
  "kernelspec": {
   "display_name": ".NET (C#)",
   "language": "C#",
   "name": ".net-csharp"
  },
  "language_info": {
   "name": "polyglot-notebook"
  },
  "polyglot_notebook": {
   "kernelInfo": {
    "defaultKernelName": "csharp",
    "items": [
     {
      "aliases": [],
      "name": "csharp"
     }
    ]
   }
  }
 },
 "nbformat": 4,
 "nbformat_minor": 5
}
