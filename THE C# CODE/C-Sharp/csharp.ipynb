{
 "cells": [
  {
   "cell_type": "code",
   "execution_count": 18,
   "id": "780ff920",
   "metadata": {
    "polyglot_notebook": {
     "kernelName": "csharp"
    },
    "vscode": {
     "languageId": "polyglot-notebook"
    }
   },
   "outputs": [
    {
     "name": "stdout",
     "output_type": "stream",
     "text": [
      "Hello World\r\n"
     ]
    }
   ],
   "source": [
    "Console.WriteLine(\"Hello World\");"
   ]
  },
  {
   "cell_type": "code",
   "execution_count": 19,
   "metadata": {
    "polyglot_notebook": {
     "kernelName": "csharp"
    },
    "vscode": {
     "languageId": "polyglot-notebook"
    }
   },
   "outputs": [
    {
     "data": {
      "text/html": [
       "<div><div></div><div></div><div><strong>Installed Packages</strong><ul><li><span>System.Data.SqlClient, 4.8.5</span></li></ul></div></div>"
      ]
     },
     "metadata": {},
     "output_type": "display_data"
    },
    {
     "name": "stdout",
     "output_type": "stream",
     "text": [
      "1, 5/7/2025 3:59:31 PM,  26, ERROR, LawToolBox.API.V1.Controllers.DeadlinesController, Failed to process order, , , , \n",
      "2, 5/7/2025 4:00:07 PM,  26, ERROR, Microsoft.AspNetCore.Server.Kestrel, Connection id \"0HNCD9T882SRM\", Request id \"0HNCD9T882SRM:00000002\": An unhandled exception was thrown by the application., System.NullReferenceException: Object reference not set to an instance of an object.\n",
      "   at LawToolBox.API.V1.Controllers.DeadlinesController.TestLogger() in C:\\Users\\devgy\\OneDrive\\Desktop\\LawToolBox.API.V1\\LawToolBox.API.V1\\Controllers\\Core\\DeadlinesController.cs:line 80\n",
      "   at Microsoft.AspNetCore.Mvc.Infrastructure.ActionMethodExecutor.TaskOfIActionResultExecutor.Execute(IActionResultTypeMapper mapper, ObjectMethodExecutor executor, Object controller, Object[] arguments)\n",
      "   at Microsoft.AspNetCore.Mvc.Infrastructure.ControllerActionInvoker.<InvokeActionMethodAsync>g__Awaited|12_0(ControllerActionInvoker invoker, ValueTask`1 actionResultValueTask)\n",
      "   at Microsoft.AspNetCore.Mvc.Infrastructure.ControllerActionInvoker.<InvokeNextActionFilterAsync>g__Awaited|10_0(ControllerActionInvoker invoker, Task lastTask, State next, Scope scope, Object state, Boolean isCompleted)\n",
      "   at Microsoft.AspNetCore.Mvc.Infrastructure.ControllerActionInvoker.Rethrow(ActionExecutedContextSealed context)\n",
      "   at Microsoft.AspNetCore.Mvc.Infrastructure.ControllerActionInvoker.Next(State& next, Scope& scope, Object& state, Boolean& isCompleted)\n",
      "   at Microsoft.AspNetCore.Mvc.Infrastructure.ControllerActionInvoker.InvokeInnerFilterAsync()\n",
      "--- End of stack trace from previous location where exception was thrown ---\n",
      "   at Microsoft.AspNetCore.Mvc.Infrastructure.ResourceInvoker.<InvokeNextResourceFilter>g__Awaited|24_0(ResourceInvoker invoker, Task lastTask, State next, Scope scope, Object state, Boolean isCompleted)\n",
      "   at Microsoft.AspNetCore.Mvc.Infrastructure.ResourceInvoker.Rethrow(ResourceExecutedContextSealed context)\n",
      "   at Microsoft.AspNetCore.Mvc.Infrastructure.ResourceInvoker.Next(State& next, Scope& scope, Object& state, Boolean& isCompleted)\n",
      "   at Microsoft.AspNetCore.Mvc.Infrastructure.ResourceInvoker.InvokeFilterPipelineAsync()\n",
      "--- End of stack trace from previous location where exception was thrown ---\n",
      "   at Microsoft.AspNetCore.Mvc.Infrastructure.ResourceInvoker.<Invoke, , , \n",
      "3, 5/7/2025 4:04:51 PM,  1, INFO, Microsoft.Hosting.Lifetime, Now listening on: http://127.0.0.1:33906, , , , \n",
      "4, 5/7/2025 4:04:51 PM,  1, INFO, Microsoft.Hosting.Lifetime, Application started. Press Ctrl+C to shut down., , , , \n",
      "5, 5/7/2025 4:04:51 PM,  1, INFO, Microsoft.Hosting.Lifetime, Hosting environment: Development, , , , \n",
      "6, 5/7/2025 4:04:51 PM,  1, INFO, Microsoft.Hosting.Lifetime, Content root path: C:\\Users\\devgy\\OneDrive\\Desktop\\LawToolBox.API.V1\\LawToolBox.API.V1, , , , \n",
      "7, 5/7/2025 4:04:58 PM,  9, WARN, Microsoft.AspNetCore.HttpsPolicy.HttpsRedirectionMiddleware, Failed to determine the https port for redirect., , , , \n",
      "8, 5/7/2025 4:05:53 PM,  19, ERROR, LawToolBox.API.V1.Controllers.DeadlinesController, Index was outside the bounds of the array., System.IndexOutOfRangeException: Index was outside the bounds of the array.\n",
      "   at LawToolBox.API.V1.Controllers.DeadlinesController.GetDeadlines(Int32 firmID, Int32 userID, Int32 matterID, Int32 pageNo, Int32 pageSize) in C:\\Users\\devgy\\OneDrive\\Desktop\\LawToolBox.API.V1\\LawToolBox.API.V1\\Controllers\\Core\\DeadlinesController.cs:line 107, , , \n"
     ]
    }
   ],
   "source": [
    "#r \"nuget: System.Data.SqlClient, 4.8.5\"\n",
    "\n",
    "using System;\n",
    "using System.Data.SqlClient;\n",
    "\n",
    "string connectionString = @\"Data Source=(localdb)\\MSSQLLocalDB;Initial Catalog=LTBApiLogger;Integrated Security=True;Connect Timeout=30;Encrypt=False;\";\n",
    "string query = \"SELECT * FROM ltblogger\";\n",
    "\n",
    "using (SqlConnection connection = new SqlConnection(connectionString))\n",
    "{\n",
    "    SqlCommand command = new SqlCommand(query, connection);\n",
    "    connection.Open();\n",
    "    SqlDataReader reader = command.ExecuteReader();\n",
    "\n",
    "    while (reader.Read())\n",
    "    {\n",
    "        Console.WriteLine($\"{reader[0]}, {reader[1]},  {reader[2]}, {reader[3]}, {reader[4]}, {reader[5]}, {reader[6]}, {reader[7]}, {reader[8]}, {reader[9]}\");\n",
    "    }\n",
    "\n",
    "    reader.Close();\n",
    "}"
   ]
  }
 ],
 "metadata": {
  "kernelspec": {
   "display_name": ".NET (C#)",
   "language": "C#",
   "name": ".net-csharp"
  },
  "language_info": {
   "name": "python"
  },
  "polyglot_notebook": {
   "kernelInfo": {
    "defaultKernelName": "csharp",
    "items": [
     {
      "aliases": [],
      "name": "csharp"
     }
    ]
   }
  }
 },
 "nbformat": 4,
 "nbformat_minor": 5
}
