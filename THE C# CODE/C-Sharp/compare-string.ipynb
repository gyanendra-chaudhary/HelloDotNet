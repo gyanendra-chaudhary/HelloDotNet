{
 "cells": [
  {
   "cell_type": "code",
   "execution_count": 1,
   "id": "df689539",
   "metadata": {
    "vscode": {
     "languageId": "polyglot-notebook"
    }
   },
   "outputs": [
    {
     "name": "stdout",
     "output_type": "stream",
     "text": [
      "First sentence is <Sie tanzen auf der Straße.>\n",
      "Second sentence is <Sie tanzen auf der Strasse.>\n",
      "The two strings are not equal.\n",
      "<Sie tanzen auf der Straße.> is greater than <Sie tanzen auf der Strasse.> using invariant culture\n",
      "<Sie tanzen auf der Straße.> is greater than <Sie tanzen auf der Strasse.> using ordinal comparison\n",
      "<coop> is greater than <co-op> using invariant culture\n",
      "<coop> is greater than <co-op> using ordinal comparison\n",
      "<coop> is less than <cop> using invariant culture\n",
      "<coop> is less than <cop> using ordinal comparison\n",
      "<co-op> is less than <cop> using invariant culture\n",
      "<co-op> is less than <cop> using ordinal comparison\n"
     ]
    }
   ],
   "source": [
    "string first = \"Sie tanzen auf der Straße.\";\n",
    "string second = \"Sie tanzen auf der Strasse.\";\n",
    "\n",
    "Console.WriteLine($\"First sentence is <{first}>\");\n",
    "Console.WriteLine($\"Second sentence is <{second}>\");\n",
    "\n",
    "bool equal = String.Equals(first, second, StringComparison.InvariantCulture);\n",
    "Console.WriteLine($\"The two strings {(equal == true ? \"are\" : \"are not\")} equal.\");\n",
    "showComparison(first, second);\n",
    "\n",
    "string word = \"coop\";\n",
    "string words = \"co-op\";\n",
    "string other = \"cop\";\n",
    "\n",
    "showComparison(word, words);\n",
    "showComparison(word, other);\n",
    "showComparison(words, other);\n",
    "void showComparison(string one, string two)\n",
    "{\n",
    "    int compareLinguistic = String.Compare(one, two, StringComparison.InvariantCulture);\n",
    "    int compareOrdinal = String.Compare(one, two, StringComparison.Ordinal);\n",
    "    if (compareLinguistic < 0)\n",
    "    {\n",
    "        Console.WriteLine($\"<{one}> is less than <{two}> using invariant culture\");\n",
    "    }\n",
    "    else if (compareLinguistic > 0)\n",
    "    {\n",
    "        Console.WriteLine($\"<{one}> is greater than <{two}> using invariant culture\");\n",
    "    }\n",
    "    else\n",
    "    {\n",
    "        Console.WriteLine($\"<{one}> and <{two}> are equivalent in order using invariant culture\");\n",
    "    }\n",
    "\n",
    "    if (compareOrdinal < 0)\n",
    "    {\n",
    "        Console.WriteLine($\"<{one}> is less than <{two}> using ordinal comparison\");\n",
    "    }\n",
    "    else if (compareOrdinal > 0)\n",
    "    {\n",
    "        Console.WriteLine($\"<{one}> is greater than <{two}> using ordinal comparison\");\n",
    "    }\n",
    "    else\n",
    "    {\n",
    "        Console.WriteLine($\"<{one}> and <{two}> are equivalent in order using ordinal comparison\");\n",
    "    }\n",
    "}"
   ]
  },
  {
   "cell_type": "code",
   "execution_count": null,
   "id": "f240a688",
   "metadata": {
    "vscode": {
     "languageId": "polyglot-notebook"
    }
   },
   "outputs": [
    {
     "name": "stdout",
     "output_type": "stream",
     "text": [
      "First sentence is <Sie tanzen auf der Straße.>\n",
      "Second sentence is <Sie tanzen auf der Strasse.>\n",
      "Comparing in en-US returns 1.\n",
      "Comparing in de-DE returns 1.\n",
      "The two strings are not equal.\n",
      "<coop> is greater than <co-op> using en-US culture\n",
      "<coop> is greater than <co-op> using ordinal comparison\n",
      "<coop> is less than <cop> using en-US culture\n",
      "<coop> is less than <cop> using ordinal comparison\n",
      "<co-op> is less than <cop> using en-US culture\n",
      "<co-op> is less than <cop> using ordinal comparison\n"
     ]
    }
   ],
   "source": [
    "string first = \"Sie tanzen auf der Straße.\";\n",
    "string second = \"Sie tanzen auf der Strasse.\";\n",
    "\n",
    "Console.WriteLine($\"First sentence is <{first}>\");\n",
    "Console.WriteLine($\"Second sentence is <{second}>\");\n",
    "\n",
    "var en = new System.Globalization.CultureInfo(\"en-US\");\n",
    "\n",
    "// For culture-sensitive comparisons, use the String.Compare\n",
    "// overload that takes a StringComparison value.\n",
    "int i = String.Compare(first, second, en, System.Globalization.CompareOptions.None);\n",
    "Console.WriteLine($\"Comparing in {en.Name} returns {i}.\");\n",
    "\n",
    "var de = new System.Globalization.CultureInfo(\"de-DE\");\n",
    "i = String.Compare(first, second, de, System.Globalization.CompareOptions.None);\n",
    "Console.WriteLine($\"Comparing in {de.Name} returns {i}.\");\n",
    "\n",
    "bool b = String.Equals(first, second, StringComparison.CurrentCulture);\n",
    "Console.WriteLine($\"The two strings {(b ? \"are\" : \"are not\")} equal.\");\n",
    "\n",
    "string word = \"coop\";\n",
    "string words = \"co-op\";\n",
    "string other = \"cop\";\n",
    "\n",
    "showComparison(word, words, en);\n",
    "showComparison(word, other, en);\n",
    "showComparison(words, other, en);\n",
    "void showComparison(string one, string two, System.Globalization.CultureInfo culture)\n",
    "{\n",
    "    int compareLinguistic = String.Compare(one, two, en, System.Globalization.CompareOptions.None);\n",
    "    int compareOrdinal = String.Compare(one, two, StringComparison.Ordinal);\n",
    "    if (compareLinguistic < 0)\n",
    "    {\n",
    "        Console.WriteLine($\"<{one}> is less than <{two}> using en-US culture\");\n",
    "    }\n",
    "    else if (compareLinguistic > 0)\n",
    "    {\n",
    "        Console.WriteLine($\"<{one}> is greater than <{two}> using en-US culture\");\n",
    "    }\n",
    "    else\n",
    "    {\n",
    "        Console.WriteLine($\"<{one}> and <{two}> are equivalent in order using en-US culture\");\n",
    "    }\n",
    "\n",
    "    if (compareOrdinal < 0)\n",
    "    {\n",
    "        Console.WriteLine($\"<{one}> is less than <{two}> using ordinal comparison\");\n",
    "    }\n",
    "    else if (compareOrdinal > 0)\n",
    "    {\n",
    "        Console.WriteLine($\"<{one}> is greater than <{two}> using ordinal comparison\");\n",
    "    }\n",
    "    else\n",
    "    {\n",
    "        Console.WriteLine($\"<{one}> and <{two}> are equivalent in order using ordinal comparison\");\n",
    "    }\n",
    "}"
   ]
  }
 ],
 "metadata": {
  "kernelspec": {
   "display_name": ".NET (C#)",
   "language": "C#",
   "name": ".net-csharp"
  },
  "language_info": {
   "name": "csharp"
  },
  "polyglot_notebook": {
   "kernelInfo": {
    "defaultKernelName": "csharp",
    "items": [
     {
      "aliases": [],
      "name": "csharp"
     }
    ]
   }
  }
 },
 "nbformat": 4,
 "nbformat_minor": 5
}
