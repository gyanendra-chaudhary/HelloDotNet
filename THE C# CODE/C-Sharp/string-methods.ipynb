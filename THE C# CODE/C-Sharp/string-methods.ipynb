{
 "cells": [
  {
   "cell_type": "code",
   "execution_count": 2,
   "id": "b8623627",
   "metadata": {
    "vscode": {
     "languageId": "polyglot-notebook"
    }
   },
   "outputs": [
    {
     "name": "stdout",
     "output_type": "stream",
     "text": [
      "Original text: 'one\ttwo three:four,five six sevene'\n",
      "14 words in text:\n",
      "<on>\n",
      "<>\n",
      "<two>\n",
      "<thr>\n",
      "<>\n",
      "<>\n",
      "<four>\n",
      "<fiv>\n",
      "<>\n",
      "<six>\n",
      "<s>\n",
      "<v>\n",
      "<n>\n",
      "<>\n"
     ]
    }
   ],
   "source": [
    "char[] delimiterChars = [' ', ',', '.', ':', '\\t', 'e'];\n",
    "\n",
    "string text = \"one\\ttwo three:four,five six sevene\";\n",
    "Console.WriteLine($\"Original text: '{text}'\");\n",
    "\n",
    "string[] words = text.Split(delimiterChars);\n",
    "Console.WriteLine($\"{words.Length} words in text:\");\n",
    "\n",
    "foreach (var word in words)\n",
    "{\n",
    "    Console.WriteLine($\"<{word}>\");\n",
    "}"
   ]
  },
  {
   "cell_type": "code",
   "execution_count": 3,
   "id": "4357a6a4",
   "metadata": {
    "vscode": {
     "languageId": "polyglot-notebook"
    }
   },
   "outputs": [
    {
     "name": "stdout",
     "output_type": "stream",
     "text": [
      "Original text: 'one<<two......three<four'\n",
      "3 substrings in text:\n",
      "one\n",
      "two\n",
      "three<four\n"
     ]
    }
   ],
   "source": [
    "string[] separatingStrings = [\"<<\", \"...\"];\n",
    "\n",
    "string text = \"one<<two......three<four\";\n",
    "Console.WriteLine($\"Original text: '{text}'\");\n",
    "\n",
    "string[] words = text.Split(separatingStrings, StringSplitOptions.RemoveEmptyEntries);\n",
    "Console.WriteLine($\"{words.Length} substrings in text:\");\n",
    "\n",
    "foreach (var word in words)\n",
    "{\n",
    "    Console.WriteLine(word);\n",
    "}"
   ]
  },
  {
   "cell_type": "code",
   "execution_count": 4,
   "id": "83372f1f",
   "metadata": {
    "vscode": {
     "languageId": "polyglot-notebook"
    }
   },
   "outputs": [
    {
     "name": "stdout",
     "output_type": "stream",
     "text": [
      "<The>\n",
      "<quick>\n",
      "<brown>\n",
      "<fox jumps over the lazy dog.>\n"
     ]
    }
   ],
   "source": [
    "string phrase = \"The quick brown fox jumps over the lazy dog.\";\n",
    "string[] words = phrase.Split(' ', 4, StringSplitOptions.None);\n",
    "\n",
    "foreach (var word in words)\n",
    "{\n",
    "    Console.WriteLine($\"<{word}>\");\n",
    "}"
   ]
  },
  {
   "cell_type": "code",
   "execution_count": 5,
   "id": "5d7d6146",
   "metadata": {
    "vscode": {
     "languageId": "polyglot-notebook"
    }
   },
   "outputs": [
    {
     "name": "stdout",
     "output_type": "stream",
     "text": [
      "<The>\n",
      "<quick>\n",
      "<brown>\n",
      "<>\n",
      "<>\n",
      "<>\n",
      "<fox>\n",
      "<>\n",
      "<>\n",
      "<>\n",
      "<>\n",
      "<jumps>\n",
      "<over>\n",
      "<the>\n",
      "<lazy>\n",
      "<dog.>\n"
     ]
    }
   ],
   "source": [
    "string phrase = \"The quick brown    fox     jumps over the lazy dog.\";\n",
    "string[] words = phrase.Split(' ');\n",
    "\n",
    "foreach (var word in words)\n",
    "{\n",
    "    Console.WriteLine($\"<{word}>\");\n",
    "}"
   ]
  },
  {
   "cell_type": "code",
   "execution_count": null,
   "id": "a11a48b7",
   "metadata": {
    "vscode": {
     "languageId": "polyglot-notebook"
    }
   },
   "outputs": [
    {
     "name": "stdout",
     "output_type": "stream",
     "text": [
      "3\r\n"
     ]
    }
   ],
   "source": [
    "string myText = \"g  sandip  g\";\n",
    "var result  = myText.Split(\" \");\n",
    "\n",
    "Console.WriteLine(result.Length);"
   ]
  },
  {
   "cell_type": "code",
   "execution_count": 8,
   "id": "fb42a114",
   "metadata": {
    "vscode": {
     "languageId": "polyglot-notebook"
    }
   },
   "outputs": [
    {
     "name": "stdout",
     "output_type": "stream",
     "text": [
      "Trimmed entries:\n",
      "<1>\n",
      "<2>\n",
      "<3>\n",
      "<4>\n",
      "<5>\n",
      "<6>\n",
      "<7>\n",
      "<8>\n",
      "<9>\n",
      "<10>\n",
      "Untrimmed entries:\n",
      "<1>\n",
      "< 2>\n",
      "< 3>\n",
      "< 4>\n",
      "< 5>\n",
      "< 6>\n",
      "< 7>\n",
      "< 8>\n",
      "< 9>\n",
      "< 10>\n"
     ]
    }
   ],
   "source": [
    "string numerals = \"1, 2, 3, 4, 5, 6, 7, 8, 9, 10\";\n",
    "string[] words = numerals.Split(',', StringSplitOptions.TrimEntries);\n",
    "\n",
    "Console.WriteLine(\"Trimmed entries:\");\n",
    "foreach (var word in words)\n",
    "{\n",
    "    Console.WriteLine($\"<{word}>\");\n",
    "}\n",
    "words = numerals.Split(',', StringSplitOptions.None);\n",
    "Console.WriteLine(\"Untrimmed entries:\");\n",
    "foreach (var word in words)\n",
    "{\n",
    "    Console.WriteLine($\"<{word}>\");\n",
    "}"
   ]
  },
  {
   "cell_type": "code",
   "execution_count": 12,
   "id": "f4eada31",
   "metadata": {
    "vscode": {
     "languageId": "polyglot-notebook"
    }
   },
   "outputs": [
    {
     "name": "stdout",
     "output_type": "stream",
     "text": [
      "Hello <Type your name here>. Today is 5/30/2025.\n",
      "Hello <Type your name here>. Today is 5/30/2025. How are you today?\n"
     ]
    }
   ],
   "source": [
    "string userName = \"<Type your name here>\";\n",
    "string dateString = DateTime.Today.ToShortDateString();\n",
    "\n",
    "// Use the + and += operators for one-time concatenations.\n",
    "string str = \"Hello \" + userName + \". Today is \" + dateString + \".\";\n",
    "Console.WriteLine(str);\n",
    "\n",
    "str += \" How are you today?\";\n",
    "Console.WriteLine(str);"
   ]
  },
  {
   "cell_type": "code",
   "execution_count": 16,
   "id": "0c65446a",
   "metadata": {
    "vscode": {
     "languageId": "polyglot-notebook"
    }
   },
   "outputs": [
    {
     "name": "stdout",
     "output_type": "stream",
     "text": [
      "Thequickbrownfoxjumpsoverthelazydog.\n",
      "The quick brown fox jumps over the lazy dog.\n"
     ]
    }
   ],
   "source": [
    "string[] words = [\"The\", \"quick\", \"brown\", \"fox\", \"jumps\", \"over\", \"the\", \"lazy\", \"dog.\"];\n",
    "\n",
    "var unreadablePhrase = string.Concat(words);\n",
    "Console.WriteLine(unreadablePhrase);\n",
    "\n",
    "var readablePhrase = string.Join(\" \", words);\n",
    "Console.WriteLine(readablePhrase);"
   ]
  }
 ],
 "metadata": {
  "kernelspec": {
   "display_name": ".NET (C#)",
   "language": "C#",
   "name": ".net-csharp"
  },
  "language_info": {
   "name": "csharp"
  },
  "polyglot_notebook": {
   "kernelInfo": {
    "defaultKernelName": "csharp",
    "items": [
     {
      "aliases": [],
      "name": "csharp"
     }
    ]
   }
  }
 },
 "nbformat": 4,
 "nbformat_minor": 5
}
