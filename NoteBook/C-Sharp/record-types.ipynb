{
 "cells": [
  {
   "cell_type": "markdown",
   "id": "0809f954",
   "metadata": {},
   "source": [
    "## Define record struct"
   ]
  },
  {
   "cell_type": "code",
   "execution_count": 1,
   "id": "4720b48a",
   "metadata": {
    "polyglot_notebook": {
     "kernelName": "csharp"
    },
    "vscode": {
     "languageId": "polyglot-notebook"
    }
   },
   "outputs": [],
   "source": [
    "public readonly record struct DailyTemperature(double HighTemp, double LowTemp){\n",
    "    public double Mean => (HighTemp + LowTemp) / 2.0;\n",
    "}\n"
   ]
  },
  {
   "cell_type": "markdown",
   "id": "81939406",
   "metadata": {},
   "source": [
    "## Initialize value to it"
   ]
  },
  {
   "cell_type": "code",
   "execution_count": 2,
   "id": "c1b4a5e1",
   "metadata": {
    "polyglot_notebook": {
     "kernelName": "csharp"
    },
    "vscode": {
     "languageId": "polyglot-notebook"
    }
   },
   "outputs": [],
   "source": [
    "\n",
    "private static DailyTemperature[] data = [\n",
    "    new DailyTemperature(HighTemp: 57, LowTemp: 30), \n",
    "    new DailyTemperature(60, 35),\n",
    "    new DailyTemperature(63, 33),\n",
    "    new DailyTemperature(68, 29),\n",
    "    new DailyTemperature(72, 47),\n",
    "    new DailyTemperature(75, 55),\n",
    "    new DailyTemperature(77, 55),\n",
    "    new DailyTemperature(72, 58),\n",
    "    new DailyTemperature(70, 47),\n",
    "    new DailyTemperature(77, 59),\n",
    "    new DailyTemperature(85, 65),\n",
    "    new DailyTemperature(87, 65),\n",
    "    new DailyTemperature(85, 72),\n",
    "    new DailyTemperature(83, 68),\n",
    "    new DailyTemperature(77, 65),\n",
    "    new DailyTemperature(72, 58),\n",
    "    new DailyTemperature(77, 55),\n",
    "    new DailyTemperature(76, 53),\n",
    "    new DailyTemperature(80, 60),\n",
    "    new DailyTemperature(85, 66) \n",
    "];"
   ]
  },
  {
   "cell_type": "markdown",
   "id": "0ca3348b",
   "metadata": {},
   "source": [
    "## Iterate through the data"
   ]
  },
  {
   "cell_type": "code",
   "execution_count": 3,
   "metadata": {
    "polyglot_notebook": {
     "kernelName": "csharp"
    },
    "vscode": {
     "languageId": "polyglot-notebook"
    }
   },
   "outputs": [
    {
     "name": "stdout",
     "output_type": "stream",
     "text": [
      "DailyTemperature { HighTemp = 57, LowTemp = 30, Mean = 43.5 }\n",
      "DailyTemperature { HighTemp = 60, LowTemp = 35, Mean = 47.5 }\n",
      "DailyTemperature { HighTemp = 63, LowTemp = 33, Mean = 48 }\n",
      "DailyTemperature { HighTemp = 68, LowTemp = 29, Mean = 48.5 }\n",
      "DailyTemperature { HighTemp = 72, LowTemp = 47, Mean = 59.5 }\n",
      "DailyTemperature { HighTemp = 75, LowTemp = 55, Mean = 65 }\n",
      "DailyTemperature { HighTemp = 77, LowTemp = 55, Mean = 66 }\n",
      "DailyTemperature { HighTemp = 72, LowTemp = 58, Mean = 65 }\n",
      "DailyTemperature { HighTemp = 70, LowTemp = 47, Mean = 58.5 }\n",
      "DailyTemperature { HighTemp = 77, LowTemp = 59, Mean = 68 }\n",
      "DailyTemperature { HighTemp = 85, LowTemp = 65, Mean = 75 }\n",
      "DailyTemperature { HighTemp = 87, LowTemp = 65, Mean = 76 }\n",
      "DailyTemperature { HighTemp = 85, LowTemp = 72, Mean = 78.5 }\n",
      "DailyTemperature { HighTemp = 83, LowTemp = 68, Mean = 75.5 }\n",
      "DailyTemperature { HighTemp = 77, LowTemp = 65, Mean = 71 }\n",
      "DailyTemperature { HighTemp = 72, LowTemp = 58, Mean = 65 }\n",
      "DailyTemperature { HighTemp = 77, LowTemp = 55, Mean = 66 }\n",
      "DailyTemperature { HighTemp = 76, LowTemp = 53, Mean = 64.5 }\n",
      "DailyTemperature { HighTemp = 80, LowTemp = 60, Mean = 70 }\n",
      "DailyTemperature { HighTemp = 85, LowTemp = 66, Mean = 75.5 }\n"
     ]
    }
   ],
   "source": [
    "foreach (var item in data)\n",
    "    Console.WriteLine(item);"
   ]
  },
  {
   "cell_type": "code",
   "execution_count": null,
   "metadata": {
    "polyglot_notebook": {
     "kernelName": "csharp"
    },
    "vscode": {
     "languageId": "polyglot-notebook"
    }
   },
   "outputs": [],
   "source": []
  }
 ],
 "metadata": {
  "kernelspec": {
   "display_name": ".NET (C#)",
   "language": "C#",
   "name": ".net-csharp"
  },
  "language_info": {
   "name": "csharp"
  },
  "polyglot_notebook": {
   "kernelInfo": {
    "defaultKernelName": "csharp",
    "items": [
     {
      "aliases": [],
      "name": "csharp"
     }
    ]
   }
  }
 },
 "nbformat": 4,
 "nbformat_minor": 5
}
