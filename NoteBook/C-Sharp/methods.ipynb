{
 "cells": [
  {
   "cell_type": "code",
   "execution_count": 12,
   "id": "4bda6dd8",
   "metadata": {
    "polyglot_notebook": {
     "kernelName": "csharp"
    },
    "vscode": {
     "languageId": "polyglot-notebook"
    }
   },
   "outputs": [
    {
     "name": "stdout",
     "output_type": "stream",
     "text": [
      "Submission#12+<GetSingleDigitNumbers>d__1\r\n"
     ]
    }
   ],
   "source": [
    "public IEnumerable<int> GetSingleDigitNumbers()\n",
    "{\n",
    "    yield return 0;\n",
    "    yield return 1;\n",
    "    yield return 2;\n",
    "    yield return 3;\n",
    "    yield return 4;\n",
    "    yield return 5;\n",
    "    yield return 6;\n",
    "    yield return 7;\n",
    "    yield return 8;\n",
    "    yield return 9;\n",
    "}\n",
    "\n",
    "Console.WriteLine(GetSingleDigitNumbers());"
   ]
  }
 ],
 "metadata": {
  "kernelspec": {
   "display_name": ".NET (C#)",
   "language": "C#",
   "name": ".net-csharp"
  },
  "language_info": {
   "name": "csharp"
  },
  "polyglot_notebook": {
   "kernelInfo": {
    "defaultKernelName": "csharp",
    "items": [
     {
      "aliases": [],
      "name": "csharp"
     }
    ]
   }
  }
 },
 "nbformat": 4,
 "nbformat_minor": 5
}
