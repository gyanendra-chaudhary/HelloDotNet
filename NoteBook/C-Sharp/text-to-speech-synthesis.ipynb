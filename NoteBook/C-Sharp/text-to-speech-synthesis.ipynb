{
 "cells": [
  {
   "cell_type": "code",
   "execution_count": 1,
   "id": "6d9b5581",
   "metadata": {
    "vscode": {
     "languageId": "polyglot-notebook"
    }
   },
   "outputs": [
    {
     "ename": "Error",
     "evalue": "(1,14): error CS0234: The type or namespace name 'Speech' does not exist in the namespace 'System' (are you missing an assembly reference?)\r\n(4,27): error CS0246: The type or namespace name 'SpeechSynthesizer' could not be found (are you missing a using directive or an assembly reference?)",
     "output_type": "error",
     "traceback": [
      "(1,14): error CS0234: The type or namespace name 'Speech' does not exist in the namespace 'System' (are you missing an assembly reference?)\r\n",
      "(4,27): error CS0246: The type or namespace name 'SpeechSynthesizer' could not be found (are you missing a using directive or an assembly reference?)"
     ]
    }
   ],
   "source": [
    "using System.Speech.Synthesis;\n",
    "public void Speak()\n",
    "{\n",
    "    var synthesizer = new SpeechSynthesizer();\n",
    "    synthesizer.SetOutputToDefaultAudioDevice();\n",
    "    synthesizer.Speak(\"All we need to do is to make sure we keep talking\");\n",
    "}"
   ]
  }
 ],
 "metadata": {
  "language_info": {
   "name": "csharp"
  }
 },
 "nbformat": 4,
 "nbformat_minor": 5
}
