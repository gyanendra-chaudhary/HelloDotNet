{
 "cells": [
  {
   "cell_type": "markdown",
   "id": "1c99c484",
   "metadata": {},
   "source": [
    "## Cancel a list of tasks"
   ]
  },
  {
   "cell_type": "code",
   "execution_count": 23,
   "id": "ff4b755e",
   "metadata": {
    "polyglot_notebook": {
     "kernelName": "csharp"
    },
    "vscode": {
     "languageId": "polyglot-notebook"
    }
   },
   "outputs": [],
   "source": [
    "using System;\n",
    "using System.Collections.Generic;\n",
    "using System.Diagnostics;\n",
    "using System.Net.Http;\n",
    "using System.Threading;\n",
    "using System.Threading.Tasks;"
   ]
  },
  {
   "cell_type": "code",
   "execution_count": 24,
   "metadata": {
    "polyglot_notebook": {
     "kernelName": "csharp"
    },
    "vscode": {
     "languageId": "polyglot-notebook"
    }
   },
   "outputs": [],
   "source": [
    "static readonly CancellationTokenSource s_cts = new CancellationTokenSource();\n",
    "static readonly HttpClient s_client = new HttpClient{\n",
    "    MaxResponseContentBufferSize = 1_000_000\n",
    "};\n",
    "\n",
    "static readonly IEnumerable<string> s_urlList = new string[]\n",
    "{\n",
    "    \"https://learn.microsoft.com\",\n",
    "    \"https://learn.microsoft.com/aspnet/core\",\n",
    "    \"https://learn.microsoft.com/azure\",\n",
    "    \"https://learn.microsoft.com/azure/devops\",\n",
    "    \"https://learn.microsoft.com/dotnet\",\n",
    "    \"https://learn.microsoft.com/dynamics365\",\n",
    "    \"https://learn.microsoft.com/education\",\n",
    "    \"https://learn.microsoft.com/enterprise-mobility-security\",\n",
    "    \"https://learn.microsoft.com/gaming\",\n",
    "    \"https://learn.microsoft.com/graph\",\n",
    "    \"https://learn.microsoft.com/microsoft-365\",\n",
    "    \"https://learn.microsoft.com/office\",\n",
    "    \"https://learn.microsoft.com/powershell\",\n",
    "    \"https://learn.microsoft.com/sql\",\n",
    "    \"https://learn.microsoft.com/surface\",\n",
    "    \"https://learn.microsoft.com/system-center\",\n",
    "    \"https://learn.microsoft.com/visualstudio\",\n",
    "    \"https://learn.microsoft.com/windows\",\n",
    "    \"https://learn.microsoft.com/maui\"\n",
    "};"
   ]
  },
  {
   "cell_type": "code",
   "execution_count": 25,
   "metadata": {
    "polyglot_notebook": {
     "kernelName": "csharp"
    },
    "vscode": {
     "languageId": "polyglot-notebook"
    }
   },
   "outputs": [],
   "source": [
    "static async Task SumPageSizeAsync()\n",
    "{\n",
    "    var stopwatch = Stopwatch.StartNew();\n",
    "    int total = 0;\n",
    "    foreach(string url in s_urlList){\n",
    "        int contentLength = await ProcessUrlAsync(url, s_client, s_cts.Token);\n",
    "        total +=  contentLength;\n",
    "    }\n",
    "    stopwatch.Stop();\n",
    "\n",
    "    Console.WriteLine($\"\\nTotal bytes returned:  {total:#,#}\");\n",
    "    Console.WriteLine($\"Elapsed time:          {stopwatch.Elapsed}\\n\");\n",
    "}"
   ]
  },
  {
   "cell_type": "code",
   "execution_count": 26,
   "metadata": {
    "polyglot_notebook": {
     "kernelName": "csharp"
    },
    "vscode": {
     "languageId": "polyglot-notebook"
    }
   },
   "outputs": [],
   "source": [
    "static async Task<int> ProcessUrlAsync(string url, HttpClient client, CancellationToken token)\n",
    "{\n",
    "    HttpResponseMessage response = await client.GetAsync(url, token);\n",
    "    byte[] content = await response.Content.ReadAsByteArrayAsync(token);\n",
    "    Console.WriteLine($\"{url,-60} {content.Length,10:#,#}\");\n",
    "    return content.Length;\n",
    "}"
   ]
  },
  {
   "cell_type": "code",
   "execution_count": 27,
   "metadata": {
    "polyglot_notebook": {
     "kernelName": "csharp"
    },
    "vscode": {
     "languageId": "polyglot-notebook"
    }
   },
   "outputs": [],
   "source": [
    "static async Task EntryPoint()\n",
    "{\n",
    "    Console.WriteLine(\"Application started.\");\n",
    "    Console.WriteLine(\"Press the ENTER key to cancel...\\n\");\n",
    "\n",
    "    Task cancelTask = Task.Run(()=>{\n",
    "        while(Console.ReadKey().Key != ConsoleKey.Enter)\n",
    "        {\n",
    "            Console.WriteLine(\"Press the ENTER key to  cancel...\");\n",
    "        }\n",
    "        Console.WriteLine(\"\\nENTER key pressed: cancelling downloads.\\n\");\n",
    "        s_cts.Cancel();\n",
    "    });\n",
    "\n",
    "    Task sumPageSizesTask = SumPageSizeAsync();\n",
    "    Task finishedTask = await Task.WhenAny(new[]{cancelTask, sumPageSizesTask});\n",
    "    if(finishedTask == cancelTask)\n",
    "    {\n",
    "        try\n",
    "        {\n",
    "            await sumPageSizesTask;\n",
    "            Console.WriteLine(\"Download task completed before cancel request was processed.\");\n",
    "\n",
    "        }catch (TaskCanceledException){\n",
    "            Console.WriteLine(\"Download task has been cancelled.\");\n",
    "        }\n",
    "    }\n",
    "    Console.WriteLine(\"Application ending.\");\n",
    "}"
   ]
  }
 ],
 "metadata": {
  "kernelspec": {
   "display_name": ".NET (C#)",
   "language": "C#",
   "name": ".net-csharp"
  },
  "language_info": {
   "name": "csharp"
  },
  "polyglot_notebook": {
   "kernelInfo": {
    "defaultKernelName": "csharp",
    "items": [
     {
      "aliases": [],
      "name": "csharp"
     }
    ]
   }
  }
 },
 "nbformat": 4,
 "nbformat_minor": 5
}
