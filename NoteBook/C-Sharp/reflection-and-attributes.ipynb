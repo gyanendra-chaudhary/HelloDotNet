{
 "cells": [
  {
   "cell_type": "code",
   "execution_count": null,
   "id": "ac463ece",
   "metadata": {
    "vscode": {
     "languageId": "polyglot-notebook"
    }
   },
   "outputs": [
    {
     "ename": "Error",
     "evalue": "(1,1): error CS0246: The type or namespace name 'Assembly' could not be found (are you missing a using directive or an assembly reference?)\r\n(1,21): error CS0103: The name 'Assembly' does not exist in the current context",
     "output_type": "error",
     "traceback": [
      "(1,1): error CS0246: The type or namespace name 'Assembly' could not be found (are you missing a using directive or an assembly reference?)\r\n",
      "(1,21): error CS0103: The name 'Assembly' does not exist in the current context"
     ]
    }
   ],
   "source": [
    "Assembly assembly = Assembly.Load(\"System.Private.CoreLib, Version=7.0.0.0, Culture=neutral, PublicKeyToken=7cec85d7bea7798e\");\n",
    "var pubTypesQuery = from type in assembly.GetTypes()\n",
    "                    where type.IsPublic\n",
    "                    from method in type.GetMethods()\n",
    "                    where method.ReturnType.IsArray == true\n",
    "                        || (method.ReturnType.GetInterface(\n",
    "                            typeof(System.Collections.Generic.IEnumerable<>).FullName!) != null\n",
    "                        && method.ReturnType.FullName != \"System.String\")\n",
    "                    group method.ToString() by type.ToString();\n",
    "\n",
    "foreach (var groupOfMethods in pubTypesQuery)\n",
    "{\n",
    "    Console.WriteLine($\"Type: {groupOfMethods.Key}\");\n",
    "    foreach (var method in groupOfMethods)\n",
    "    {\n",
    "        Console.WriteLine($\"  {method}\");\n",
    "    }\n",
    "}"
   ]
  }
 ],
 "metadata": {
  "language_info": {
   "name": "csharp"
  }
 },
 "nbformat": 4,
 "nbformat_minor": 5
}
