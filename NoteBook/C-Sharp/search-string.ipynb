{
 "cells": [
  {
   "cell_type": "code",
   "execution_count": 6,
   "id": "0dc8975d",
   "metadata": {
    "vscode": {
     "languageId": "polyglot-notebook"
    }
   },
   "outputs": [
    {
     "name": "stdout",
     "output_type": "stream",
     "text": [
      "\"Extension methods have all the capabilities of regular static methods.\"\n",
      "Contains \"extension\"? False\n",
      "Starts with \"extension\"? True (ignoring case)\n",
      "Ends with '.'? True\n"
     ]
    }
   ],
   "source": [
    "string factMessage = \"Extension methods have all the capabilities of regular static methods.\";\n",
    "\n",
    "// Write the string and include the quotation marks.\n",
    "Console.WriteLine($\"\\\"{factMessage}\\\"\");\n",
    "\n",
    "// Simple comparisons are always case sensitive!\n",
    "bool containsSearchResult = factMessage.Contains(\"extension\");\n",
    "// Raw string literals can work here because the output doesn't begin with \"\n",
    "Console.WriteLine($\"\"\"Contains \"extension\"? {containsSearchResult}\"\"\");\n",
    "\n",
    "// For user input and strings that will be displayed to the end user,\n",
    "// use the StringComparison parameter on methods that have it to specify how to match strings.\n",
    "bool ignoreCaseSearchResult = factMessage.StartsWith(\"extension\", System.StringComparison.CurrentCultureIgnoreCase);\n",
    "Console.WriteLine($\"\"\"Starts with \"extension\"? {ignoreCaseSearchResult} (ignoring case)\"\"\");\n",
    "\n",
    "bool endsWithSearchResult = factMessage.EndsWith(\".\", System.StringComparison.CurrentCultureIgnoreCase);\n",
    "Console.WriteLine($\"Ends with '.'? {endsWithSearchResult}\");"
   ]
  },
  {
   "cell_type": "code",
   "execution_count": 7,
   "id": "1a621b23",
   "metadata": {
    "vscode": {
     "languageId": "polyglot-notebook"
    }
   },
   "outputs": [
    {
     "name": "stdout",
     "output_type": "stream",
     "text": [
      "\"Extension methods have all the capabilities of regular static methods.\"\n",
      "Substring between \"methods\" and \"methods\": ' have all the capabilities of regular static '\n"
     ]
    }
   ],
   "source": [
    "string factMessage = \"Extension methods have all the capabilities of regular static methods.\";\n",
    "\n",
    "// Write the string and include the quotation marks.\n",
    "Console.WriteLine($\"\\\"{factMessage}\\\"\");\n",
    "\n",
    "// This search returns the substring between two strings, so\n",
    "// the first index is moved to the character just after the first string.\n",
    "int first = factMessage.IndexOf(\"methods\") + \"methods\".Length;\n",
    "int last = factMessage.LastIndexOf(\"methods\");\n",
    "string str2 = factMessage.Substring(first, last - first);\n",
    "Console.WriteLine($\"\"\"Substring between \"methods\" and \"methods\": '{str2}'\"\"\");"
   ]
  },
  {
   "cell_type": "code",
   "execution_count": 8,
   "id": "87aa44af",
   "metadata": {
    "vscode": {
     "languageId": "polyglot-notebook"
    }
   },
   "outputs": [
    {
     "name": "stdout",
     "output_type": "stream",
     "text": [
      "Put the water over there.  (match for 'the(ir)?\\s' found)\n",
      "  They're quite thirsty.\n",
      "Their water bottles broke.  (match for 'the(ir)?\\s' found)\n"
     ]
    }
   ],
   "source": [
    "string[] sentences =\n",
    "[\n",
    "    \"Put the water over there.\",\n",
    "    \"They're quite thirsty.\",\n",
    "    \"Their water bottles broke.\"\n",
    "];\n",
    "\n",
    "string sPattern = \"the(ir)?\\\\s\";\n",
    "\n",
    "foreach (string s in sentences)\n",
    "{\n",
    "    Console.Write($\"{s,24}\");\n",
    "\n",
    "    if (System.Text.RegularExpressions.Regex.IsMatch(s, sPattern, System.Text.RegularExpressions.RegexOptions.IgnoreCase))\n",
    "    {\n",
    "        Console.WriteLine($\"  (match for '{sPattern}' found)\");\n",
    "    }\n",
    "    else\n",
    "    {\n",
    "        Console.WriteLine();\n",
    "    }\n",
    "}"
   ]
  }
 ],
 "metadata": {
  "kernelspec": {
   "display_name": ".NET (C#)",
   "language": "C#",
   "name": ".net-csharp"
  },
  "language_info": {
   "name": "csharp"
  },
  "polyglot_notebook": {
   "kernelInfo": {
    "defaultKernelName": "csharp",
    "items": [
     {
      "aliases": [],
      "name": "csharp"
     }
    ]
   }
  }
 },
 "nbformat": 4,
 "nbformat_minor": 5
}
